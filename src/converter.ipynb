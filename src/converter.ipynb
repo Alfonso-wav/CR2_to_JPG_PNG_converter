{
 "cells": [
  {
   "cell_type": "code",
   "execution_count": null,
   "metadata": {},
   "outputs": [],
   "source": [
    "import os\n",
    "import rawpy\n",
    "from PIL import Image\n",
    "\n",
    "# Path of the directory containing the RAW images\n",
    "input_dir = \"../img\"\n",
    "# Path of the directory where processed images will be saved\n",
    "output_dir = \"../processed_img\"\n",
    "\n",
    "# Create the output directory if it doesn't exist\n",
    "if not os.path.exists(output_dir):\n",
    "    os.makedirs(output_dir)\n",
    "\n",
    "# Get the list of files in the input directory\n",
    "files = os.listdir(input_dir)\n",
    "\n",
    "# Iterate over each file\n",
    "for file in files:\n",
    "    # Check if the file is a RAW file (CR2)\n",
    "    if file.endswith(\".CR2\"):\n",
    "        # Construct the full path of the input file\n",
    "        input_file_path = os.path.join(input_dir, file)\n",
    "        \n",
    "        # Open the CR2 file\n",
    "        with rawpy.imread(input_file_path) as raw:\n",
    "            # Convert to RGB\n",
    "            rgb = raw.postprocess()\n",
    "        \n",
    "        # Create a PIL image\n",
    "        jpeg_image = Image.fromarray(rgb)\n",
    "        \n",
    "        # Construct the full path of the output file\n",
    "        output_file_path = os.path.join(output_dir, os.path.splitext(file)[0] + \".jpg\")\n",
    "        \n",
    "        # Save the image as JPEG in the output directory\n",
    "        jpeg_image.save(output_file_path, quality=100)\n",
    "\n"
   ]
  }
 ],
 "metadata": {
  "language_info": {
   "name": "python"
  }
 },
 "nbformat": 4,
 "nbformat_minor": 2
}
